{
 "cells": [
  {
   "cell_type": "code",
   "execution_count": 9,
   "id": "8267fa52",
   "metadata": {},
   "outputs": [
    {
     "name": "stdout",
     "output_type": "stream",
     "text": [
      "Insira um numero inteiro:\n",
      "10\n",
      "Insira outro numero inteiro:\n",
      "5\n",
      "Insira um número real: \n",
      "4.5\n",
      "\n",
      " Resposta:  50.0\n",
      "\n",
      " Resposta:  34.5\n",
      "\n",
      " Resposta:  91.125\n"
     ]
    }
   ],
   "source": [
    "'''Exercício 11 - Faça um Programa que peça 2 números inteiros e um número real. Calcule e mostre:\n",
    "o produto do dobro do primeiro com metade do segundo .\n",
    "a soma do triplo do primeiro com o terceiro.\n",
    "o terceiro elevado ao cubo.'''\n",
    "\n",
    "num1 = int(input('Insira um numero inteiro:\\n'))\n",
    "num2 =  int(input('Insira outro numero inteiro:\\n'))\n",
    "num_real = float(input('Insira um número real: \\n'))\n",
    "\n",
    "prod = (2*num1)*(num2/2)\n",
    "soma = (3*num1)+num_real\n",
    "cubo = num_real**3\n",
    "\n",
    "print('\\n Resposta: ',prod)\n",
    "print('\\n Resposta: ',soma)\n",
    "print('\\n Resposta: ',cubo)\n"
   ]
  },
  {
   "cell_type": "code",
   "execution_count": 12,
   "id": "8933ef1e",
   "metadata": {},
   "outputs": [
    {
     "name": "stdout",
     "output_type": "stream",
     "text": [
      "Insira a sua altura: \n",
      "1.60\n",
      "O seu peso ideal é 58kg\n"
     ]
    }
   ],
   "source": [
    "'''Exercício 12 - Tendo como dados de entrada a altura de uma pessoa, construa um algoritmo que calcule seu peso ideal,\n",
    "usando a seguinte fórmula: (72.7*altura) - 58\n",
    "'''\n",
    "\n",
    "altura = float(input('Insira a sua altura: \\n'))\n",
    "peso_ideal = (72.7*altura) - 58\n",
    "print('O seu peso ideal é {}kg'.format(round(peso_ideal)))\n"
   ]
  },
  {
   "cell_type": "code",
   "execution_count": 17,
   "id": "6979f613",
   "metadata": {},
   "outputs": [
    {
     "name": "stdout",
     "output_type": "stream",
     "text": [
      "Insira a sua altura: \n",
      "1.6\n",
      "Escolha seu sexo\n",
      "Escreva M para mulheres e H para homens \n",
      "m\n",
      "O peso ideal para mulheres com a sua altura é de 55kg\n",
      "\n"
     ]
    }
   ],
   "source": [
    "'''Exercício 13 - Tendo como dado de entrada a altura (h) de uma pessoa, construa um algoritmo que calcule seu peso ideal, \n",
    "utilizando as seguintes fórmulas:\n",
    "Para homens: (72.7*h) - 58\n",
    "Para mulheres: (62.1*h) - 44.7'''\n",
    "\n",
    "altura = float(input('Insira a sua altura: \\n'))\n",
    "sexo = str(input('Escolha seu sexo\\nEscreva M para mulheres e H para homens \\n').upper())\n",
    "mulheres = 'M'\n",
    "homens = 'H'\n",
    "\n",
    "if sexo == 'M':\n",
    "    peso_ideal = (62.1*altura) - 44.7\n",
    "    print(\"O peso ideal para mulheres com a sua altura é de {}kg\\n\".format(round(peso_ideal)))\n",
    "    \n",
    "elif sexo == 'H':\n",
    "    peso_ideal = (72.7*altura) - 58\n",
    "    print(\"O peso ideal para homens com a sua altura é de {}kg\\n\".format(round(peso_ideal)))\n"
   ]
  },
  {
   "cell_type": "code",
   "execution_count": 18,
   "id": "53379214",
   "metadata": {},
   "outputs": [
    {
     "name": "stdout",
     "output_type": "stream",
     "text": [
      "Insira o valor do peso: 56\n",
      "Excesso de peso: 6.0kg\n",
      "Multa:R$24.0\n"
     ]
    }
   ],
   "source": [
    "'''Exercício 14 - João Papo-de-Pescador, homem de bem, comprou um microcomputador para controlar o \n",
    "rendimento diário de seu trabalho. Toda vez que ele traz um peso de peixes maior que o estabelecido pelo \n",
    "regulamento de pesca do estado de São Paulo (50 quilos) deve pagar uma multa de R$ 4,00 por quilo excedente. \n",
    "João precisa que você faça um programa que leia a variável peso (peso de peixes) e calcule o excesso. \n",
    "Gravar na variável excesso a quantidade de quilos além do limite e na variável multa o valor da multa que João deverá pagar. \n",
    "Imprima os dados do programa com as mensagens adequadas.\n",
    "\n",
    "'''\n",
    "peso_peixe = float(input('Insira o valor do peso: '))\n",
    "excesso = peso_peixe - 50\n",
    "multa = excesso*4\n",
    "\n",
    "print('Excesso de peso: {0}kg\\nMulta:R${1}'.format(excesso,multa))\n",
    "\n"
   ]
  },
  {
   "cell_type": "code",
   "execution_count": null,
   "id": "5907ffd2",
   "metadata": {},
   "outputs": [],
   "source": [
    "'''Exercicio 15 - Faça um Programa que pergunte quanto você ganha por hora e o número de horas trabalhadas no mês. \n",
    "Calcule e mostre o total do seu salário no referido mês, sabendo-se que são descontados 11% para o Imposto de Renda, \n",
    "8% para o INSS e 5% para o sindicato, faça um programa que nos dê:\n",
    "salário bruto.\n",
    "quanto pagou ao INSS.\n",
    "quanto pagou ao sindicato.\n",
    "o salário líquido.\n",
    "calcule os descontos e o salário líquido, conforme a tabela abaixo:\n",
    "+ Salário Bruto : R$\n",
    "- IR (11%) : R$\n",
    "- INSS (8%) : R$\n",
    "- Sindicato ( 5%) : R$\n",
    "= Salário Liquido : R$'''\n",
    "\n",
    "ganho_hora = float(input('Insira o valor que você ganha por horas: R$ '))\n",
    "horas_mes = float(input('Insira quantas horas você trabalha por mês: '))\n",
    "total_salario = ganho_hora*horas_mes\n",
    "ir = ((11*total_salario)/100)\n",
    "inss = ((8*total_salario)/100)\n",
    "sind = ((5*total_salario)/100)\n",
    "salario_liquido = total_salario - ir - inss - sind\n",
    "\n",
    "print('+ Salário Bruto : R${0}\\n-IR (11%) : R${1}\\n-INSS (8%) : R${2}\\n-Sindicato (5%) : R${3}\\n=Salário Liquido : R${4}'.format(total_salario, ir, inss, sind, salario_liquido))"
   ]
  },
  {
   "cell_type": "code",
   "execution_count": 32,
   "id": "1fcde2e0",
   "metadata": {},
   "outputs": [
    {
     "name": "stdout",
     "output_type": "stream",
     "text": [
      "Insira o tamanha (m2) da área a ser pintada: 40\n",
      "Área Total: 40.0m\n",
      "Litros de tinta: 13.333333333333334L\n",
      "Quantidade de Latas: 1.3499999999999999unidades/nValor Total: R$107.99999999999999\n"
     ]
    }
   ],
   "source": [
    "'''Exercício 16 - Faça um programa para uma loja de tintas. O programa deverá pedir o tamanho em metros quadrados da área \n",
    "a ser pintada. Considere que a cobertura da tinta é de 1 litro para cada 3 metros quadrados e que \n",
    "a tinta é vendida em latas de 18 litros, que custam R$ 80,00. Informe ao usuário a quantidades de latas de tinta \n",
    "a serem compradas e o preço total.'''\n",
    "\n",
    "area = float(input('Insira o tamanha (m2) da área a ser pintada: '))\n",
    "litros = area/3\n",
    "latas = 18/litros\n",
    "valor_total = latas*80\n",
    "\n",
    "print('Área Total: {0}m\\nLitros de tinta: {1}L\\nQuantidade de Latas: {2}unidades/nValor Total: R${3}'.format(area, litros, latas, valor_total))\n"
   ]
  },
  {
   "cell_type": "code",
   "execution_count": 26,
   "id": "62ea6e1d",
   "metadata": {
    "scrolled": true
   },
   "outputs": [
    {
     "name": "stdout",
     "output_type": "stream",
     "text": [
      "Insira o tamanho da área (m2): 200\n",
      "\n",
      "Quantidade de tinta: 34L\n",
      "Comprar 1 lata(s) de 18L: R$80\n",
      "Comprar 5 galao(s) de 3.6L: R$125\n"
     ]
    }
   ],
   "source": [
    "'''Exercício 17 - Faça um Programa para uma loja de tintas. O programa deverá pedir o tamanho em metros quadrados da área a ser pintada. \n",
    "Considere que a cobertura da tinta é de 1 litro para cada 6 metros quadrados e que a tinta é vendida em latas de 18 litros,\n",
    "que custam R$ 80,00 ou em galões de 3,6 litros, que custam R$ 25,00.\n",
    "Informe ao usuário as quantidades de tinta a serem compradas e os respectivos preços em 3 situações:\n",
    "comprar apenas latas de 18 litros;\n",
    "comprar apenas galões de 3,6 litros;\n",
    "misturar latas e galões, de forma que o desperdício de tinta seja menor. \n",
    "Acrescente 10% de folga e sempre arredonde os valores para cima, isto é, considere latas cheias.'''\n",
    "\n",
    "import math\n",
    "\n",
    "area = float(input('Insira o tamanho da área (m2): '))\n",
    "litros = area/6\n",
    "lata = 18\n",
    "div_lata = litros/lata\n",
    "galao = 3.6\n",
    "div_galao = litros/galao\n",
    "preco_lata = round(lata)*80\n",
    "preco_galao = round(galao)*25\n",
    "volta = 0\n",
    "print('\\nQuantidade de tinta: {}L'.format(math.ceil(litros)))\n",
    "\n",
    "if litros <= lata:\n",
    "    sobra_lata = lata - litros\n",
    "    sobra_galao = math.ceil(galao) - galao\n",
    "    if sobra_lata < sobra_galao:\n",
    "        print('Comprar {0} lata de 18L: R${1}'.format(round(div_lata),(div_lata*80)))\n",
    "    else:\n",
    "        print('Comprar {0} galões de 3,6L: R${1}'.format(round(div_galao), preco_galao)) \n",
    "         \n",
    "elif litros > lata:\n",
    "    compra_lata = math.floor(div_lata)\n",
    "    preco_lata2 = compra_lata*80\n",
    "    compra_galao = (litros-(lata*compra_lata))/galao\n",
    "    preco_galao2 = (math.ceil(compra_galao)*25)\n",
    "    \n",
    "    \n",
    "    print('Comprar {0} lata(s) de 18L: R${1}'.format(compra_lata, preco_lata2))\n",
    "    print('Comprar {0} galao(s) de 3.6L: R${1}'.format(math.ceil(compra_galao), preco_galao2))\n",
    "\n"
   ]
  },
  {
   "cell_type": "code",
   "execution_count": 24,
   "id": "2219f369",
   "metadata": {},
   "outputs": [
    {
     "name": "stdout",
     "output_type": "stream",
     "text": [
      "Insira o tamanho do arquivo em MB: 500\n",
      "Insira a velocidade em Mbs: 8\n",
      "O arquivo 500.0MB na velocidade de 8.0Mbs levará 8.33Mb por minuto para fazer o dowload completo\n"
     ]
    }
   ],
   "source": [
    "'''Exercício 18 - Faça um programa que peça o tamanho de um arquivo para download (em MB) e\n",
    "a velocidade de um link de Internet (em Mbps), calcule e informe o tempo aproximado de download do arquivo \n",
    "usando este link (em minutos).'''\n",
    "\n",
    "arquivo = float(input('Insira o tamanho do arquivo em MB: '))\n",
    "velocidade = float(input('Insira a velocidade em Mbs: '))\n",
    "conv = arquivo*8\n",
    "tempo_seg = conv/velocidade\n",
    "tempo_min = tempo_seg/60\n",
    "\n",
    "print('O arquivo {0}MB na velocidade de {1}Mbs levará {2}Mb por minuto para fazer o dowload completo'.format(arquivo, velocidade, round(tempo_min,2)))\n"
   ]
  }
 ],
 "metadata": {
  "kernelspec": {
   "display_name": "Python 3 (ipykernel)",
   "language": "python",
   "name": "python3"
  },
  "language_info": {
   "codemirror_mode": {
    "name": "ipython",
    "version": 3
   },
   "file_extension": ".py",
   "mimetype": "text/x-python",
   "name": "python",
   "nbconvert_exporter": "python",
   "pygments_lexer": "ipython3",
   "version": "3.9.12"
  }
 },
 "nbformat": 4,
 "nbformat_minor": 5
}
