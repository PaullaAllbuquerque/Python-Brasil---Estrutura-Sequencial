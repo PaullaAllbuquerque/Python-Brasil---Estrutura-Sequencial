{
 "cells": [
  {
   "cell_type": "code",
   "execution_count": 1,
   "id": "6466e2c7",
   "metadata": {},
   "outputs": [
    {
     "name": "stdout",
     "output_type": "stream",
     "text": [
      "Hello world\n",
      "Hello world\n"
     ]
    }
   ],
   "source": [
    "#Exercício 1 - Faça um Programa que mostre a mensagem \"Alo mundo\" na tela.\n",
    "\n",
    "print ('Hello world')"
   ]
  },
  {
   "cell_type": "code",
   "execution_count": 2,
   "id": "e72bba82",
   "metadata": {},
   "outputs": [
    {
     "name": "stdout",
     "output_type": "stream",
     "text": [
      "Insira um numero:60\n",
      "O numero informado foi: 60\n",
      "O numero informado foi: 60\n"
     ]
    }
   ],
   "source": [
    "#Exercício 2 - Faça um Programa que peça um número e então mostre a mensagem O número informado foi [número].\n",
    "\n",
    "numero = input('Insira um numero:')\n",
    "print('O numero informado foi:', numero)"
   ]
  },
  {
   "cell_type": "code",
   "execution_count": 3,
   "id": "f38d4362",
   "metadata": {},
   "outputs": [
    {
     "name": "stdout",
     "output_type": "stream",
     "text": [
      "Insira um numero:60\n",
      "Insira outro numero:55\n",
      "115\n",
      "115\n"
     ]
    }
   ],
   "source": [
    "#Exercício 3 - Faça um Programa que peça dois números e imprima a soma.\n",
    "\n",
    "num_1 = int(input('Insira um numero:'))\n",
    "num_2 = int(input('Insira outro numero:'))\n",
    "print (num_1 + num_2)\n"
   ]
  },
  {
   "cell_type": "code",
   "execution_count": 12,
   "id": "c05c9cea",
   "metadata": {},
   "outputs": [
    {
     "name": "stdout",
     "output_type": "stream",
     "text": [
      "Insira a nota do 1° bimestre:10\n",
      "Insira a nota do 2° bimestre:4\n",
      "Insira a nota do 3° bimestre:10\n",
      "Insira a nota do 4° bimestre:7\n",
      "7.75\n",
      "7.75\n"
     ]
    }
   ],
   "source": [
    "#Exercício 4 - Faça um Programa que peça as 4 notas bimestrais e mostre a média.\n",
    "\n",
    "n1 = int(input('Insira a nota do 1° bimestre:'))\n",
    "n2 = int(input('Insira a nota do 2° bimestre:'))\n",
    "n3 = int(input('Insira a nota do 3° bimestre:'))\n",
    "n4 = int(input('Insira a nota do 4° bimestre:'))\n",
    "valor = (n1+n2+n3+n4) /4\n",
    "\n",
    "print(valor)\n"
   ]
  },
  {
   "cell_type": "code",
   "execution_count": 18,
   "id": "64e252da",
   "metadata": {},
   "outputs": [
    {
     "name": "stdout",
     "output_type": "stream",
     "text": [
      "Insira o valor em metros:10\n",
      "O valoer é: 1000 cm\n",
      "O valoer é: 1000 cm\n"
     ]
    }
   ],
   "source": [
    "#Exercício 5 - Faça um Programa que converta metros para centímetros.\n",
    "\n",
    "em_metros = int(input('Insira o valor em metros:'))\n",
    "conversor = (em_metros*100)\n",
    "print('O valoer é:', conversor, 'cm')"
   ]
  },
  {
   "cell_type": "code",
   "execution_count": 20,
   "id": "427f58cd",
   "metadata": {},
   "outputs": [
    {
     "name": "stdout",
     "output_type": "stream",
     "text": [
      "Insira o valor da área:30\n",
      "O valor da área é: 2826.0\n",
      "O valor da área é: 2826.0\n"
     ]
    }
   ],
   "source": [
    "#Exercício 6 - Faça um Programa que peça o raio de um círculo, calcule e mostre sua área.\n",
    "\n",
    "raio = float(input('Insira o valor da área:')) \n",
    "pi = 3.14\n",
    "area = pi * (raio**2)\n",
    "print('O valor da área é:', area)\n",
    "\n"
   ]
  },
  {
   "cell_type": "code",
   "execution_count": 21,
   "id": "fef167d1",
   "metadata": {},
   "outputs": [
    {
     "name": "stdout",
     "output_type": "stream",
     "text": [
      "Insira o valor da altura:10\n",
      "O dobro da área do quadrado é: 40.0\n",
      "O dobro da área do quadrado é: 40.0\n"
     ]
    }
   ],
   "source": [
    "#Exercício 7 - Faça um Programa que calcule a área de um quadrado, em seguida mostre o dobro desta área para o usuário.\n",
    "\n",
    "altura_quadrado = float(input('Insira o valor da altura:'))\n",
    "area_quadrado = altura_quadrado * 2\n",
    "dobro_area = area_quadrado * 2\n",
    "\n",
    "print('O dobro da área do quadrado é:', dobro_area)"
   ]
  },
  {
   "cell_type": "code",
   "execution_count": 22,
   "id": "1edaa2ed",
   "metadata": {},
   "outputs": [
    {
     "name": "stdout",
     "output_type": "stream",
     "text": [
      "Quanto voce ganha por hora?20\n",
      "Quantas horas vpce trabalha por mês?120\n",
      "Seu salário por mes é: 2400\n",
      "Seu salário por mes é: 2400\n"
     ]
    }
   ],
   "source": [
    "'''Exercício 8 - Faça um Programa que pergunte quanto você ganha por hora e o número de horas trabalhadas no mês. \n",
    "Calcule e mostre o total do seu salário no referido mês.'''\n",
    "\n",
    "ganho_hora = int(input('Quanto voce ganha por hora?'))\n",
    "trabalho_hora = int(input('Quantas horas vpce trabalha por mês?'))\n",
    "total_salario = ganho_hora * trabalho_hora\n",
    "\n",
    "print('Seu salário por mes é:', total_salario)\n"
   ]
  },
  {
   "cell_type": "code",
   "execution_count": 25,
   "id": "2d5772c7",
   "metadata": {},
   "outputs": [
    {
     "name": "stdout",
     "output_type": "stream",
     "text": [
      "Insira temperatura em F°:78\n",
      "Temperatura em c° é: 25.555555555555554 C°\n",
      "Temperatura em c° é: 25.555555555555554 C°\n"
     ]
    }
   ],
   "source": [
    "#Exercício 9 - Faça um Programa que peça a temperatura em graus Fahrenheit, transforme e mostre a temperatura em graus Celsius.\n",
    "\n",
    "temperatura_f = float(input(\"Insira temperatura em F°:\"))\n",
    "temp_c = 5 * ((temperatura_f - 32)/9)\n",
    "print('Temperatura em c° é:', temp_c, 'C°')"
   ]
  },
  {
   "cell_type": "code",
   "execution_count": 7,
   "id": "2c7adfe4",
   "metadata": {},
   "outputs": [
    {
     "name": "stdout",
     "output_type": "stream",
     "text": [
      "Insira o valor da temperatura em °C: \n",
      "32\n",
      "O valor de 32.0°C em Fahrenheit será :89.6 °F\n"
     ]
    }
   ],
   "source": [
    "'''Exercício 10 - Faça um Programa que peça a temperatura em graus Celsius, transforme e mostre em graus Fahrenheit.\n",
    "'''\n",
    "\n",
    "temp_c = float(input('Insira o valor da temperatura em °C: \\n'))\n",
    "\n",
    "temp_f = ((temp_c*9)+160)/5\n",
    "print('O valor de {0}°C em Fahrenheit será :{1} °F'.format(temp_c, temp_f) )\n"
   ]
  }
 ],
 "metadata": {
  "kernelspec": {
   "display_name": "Python 3 (ipykernel)",
   "language": "python",
   "name": "python3"
  },
  "language_info": {
   "codemirror_mode": {
    "name": "ipython",
    "version": 3
   },
   "file_extension": ".py",
   "mimetype": "text/x-python",
   "name": "python",
   "nbconvert_exporter": "python",
   "pygments_lexer": "ipython3",
   "version": "3.9.12"
  }
 },
 "nbformat": 4,
 "nbformat_minor": 5
}
